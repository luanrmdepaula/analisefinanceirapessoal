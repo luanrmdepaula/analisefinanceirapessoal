{
 "cells": [
  {
   "cell_type": "code",
   "execution_count": 1,
   "id": "4057e212",
   "metadata": {},
   "outputs": [],
   "source": [
    "import pandas as pd\n",
    "from sklearn.linear_model import LinearRegression\n",
    "from sklearn.model_selection import train_test_split\n",
    "from sklearn.tree import DecisionTreeClassifier"
   ]
  },
  {
   "cell_type": "code",
   "execution_count": 2,
   "id": "71ccf96a",
   "metadata": {},
   "outputs": [],
   "source": [
    "#Fatura as Nubank \n",
    "\n",
    "conta_fatura = pd.read_csv(r'.csv')\n",
    "conta_fatura = conta_fatura.drop('', axis=1)\n",
    "\n",
    "X = conta_fatura.drop('title', axis=1)\n",
    "X = X['category']\n",
    "\n",
    "y = conta_fatura.drop('category', axis=1)\n",
    "y = y['title']"
   ]
  },
  {
   "cell_type": "code",
   "execution_count": 6,
   "id": "01b3a422",
   "metadata": {},
   "outputs": [],
   "source": [
    "X_train, X_test, y_train, y_test = train_test_split(X, y, test_size=0.2, random_state=100)"
   ]
  },
  {
   "cell_type": "code",
   "execution_count": null,
   "id": "6b909480",
   "metadata": {},
   "outputs": [],
   "source": [
    "clf = DecisionTreeClassifier()\n",
    "clf.fit(X_train, y_train)\n",
    "y_pred = clf.predict(X_test)\n",
    "print(\"Accuracy:\", clf.score(X_test, y_test))"
   ]
  }
 ],
 "metadata": {
  "kernelspec": {
   "display_name": "Python 3 (ipykernel)",
   "language": "python",
   "name": "python3"
  },
  "language_info": {
   "codemirror_mode": {
    "name": "ipython",
    "version": 3
   },
   "file_extension": ".py",
   "mimetype": "text/x-python",
   "name": "python",
   "nbconvert_exporter": "python",
   "pygments_lexer": "ipython3",
   "version": "3.10.2"
  }
 },
 "nbformat": 4,
 "nbformat_minor": 5
}
