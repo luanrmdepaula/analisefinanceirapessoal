{
 "cells": [
  {
   "cell_type": "code",
   "execution_count": 153,
   "id": "8870fdd6",
   "metadata": {},
   "outputs": [],
   "source": [
    "import pandas as pd\n",
    "import matplotlib.pyplot as plt\n",
    "import matplotlib.ticker as mtick\n",
    "import matplotlib.dates as mdates\n",
    "import mplcyberpunk\n",
    "import plotly.express as px\n",
    "from datetime import datetime\n",
    "import numpy as np\n",
    "from statistics import median\n",
    "from math import isnan\n",
    "from itertools import filterfalse\n",
    "from fpdf import FPDF\n",
    "from matplotlib.dates import date2num"
   ]
  },
  {
   "cell_type": "markdown",
   "id": "d0f43eb3",
   "metadata": {},
   "source": [
    "# Tratando os dados e criando um Data Frame"
   ]
  },
  {
   "cell_type": "code",
   "execution_count": 26,
   "id": "51828c1c",
   "metadata": {},
   "outputs": [],
   "source": [
    "def reading_ext():\n",
    "    \n",
    "    extratos = [] \n",
    "    end_ext = (r'C:\\Users\\luanr\\OneDrive\\Documentos\\aleatorios\\Camila Egan\\pj\\financeiro\\analise\\diagnostico\\historico\\nubank\\{}_23\\{}.csv')\n",
    "    meses_ano = {1:'JANEIRO',2:'FEVEREIRO',3:'MARÇO',\n",
    "                 4:'ABRIL',5:'MAIO',6:'JUNHO',\n",
    "                 7:'JULHO',8:'AGOSTO',9:'SETEMBRO',\n",
    "                 10:'OUTUBRO',11:'NOVEMBRO',12:'DEZEMBRO'} \n",
    "    hoje = float(datetime.today().strftime('%m'))-1\n",
    "    \n",
    "    for mes in meses_ano:\n",
    "        \n",
    "        if (hoje >= mes):\n",
    "            \n",
    "            ext = pd.read_csv(end_ext.format(mes,meses_ano[mes]))\n",
    "            extratos.append(ext)\n",
    "            \n",
    "        else:\n",
    "            \n",
    "            break\n",
    "    \n",
    "    return extratos    "
   ]
  },
  {
   "cell_type": "code",
   "execution_count": 27,
   "id": "2fc38e27",
   "metadata": {},
   "outputs": [
    {
     "data": {
      "text/plain": [
       "[          date      category                       title   amount\n",
       " 0   2022-12-13     vestuário  da Mami Confeccoes Imp 4/5   104.38\n",
       " 1   2022-12-13     vestuário            Centauro Com 2/3    59.99\n",
       " 2   2022-12-13           NaN          Pagamento recebido -1014.14\n",
       " 3   2022-12-13     vestuário               Ebw*Shein 3/4    36.84\n",
       " 4   2022-12-13         lazer  Beto Carrero*Beto Carr 2/4    94.95\n",
       " 5   2022-12-13   eletrônicos            Mlp*Netshoes 2/6    71.66\n",
       " 6   2022-12-14     vestuário         Lojas Renner Fl 1/2    59.90\n",
       " 7   2022-12-14      serviços              Apple.Com/Bill    10.90\n",
       " 8   2022-12-14     vestuário                  Vivara Mor    40.00\n",
       " 9   2022-12-14        outros            Tijux Acessorios    10.00\n",
       " 10  2022-12-16         saúde                 Pague Menos    32.82\n",
       " 11  2022-12-17    transporte      Posto de Servicos Agua    17.29\n",
       " 12  2022-12-17  supermercado                 Pag*Aracati    32.00\n",
       " 13  2022-12-17   eletrônicos                    Ked Ilha    29.50\n",
       " 14  2022-12-18  supermercado                 Pag*Aracati    11.00\n",
       " 15  2022-12-18  supermercado       Supermercados Minimax    41.25\n",
       " 16  2022-12-18  supermercado      Mercarinho Costa Norte    22.99\n",
       " 17  2022-12-19        outros        Pg *Ton Sorveteria N    29.97\n",
       " 18  2022-12-19  supermercado            Pag*Churroslorac    24.00\n",
       " 19  2022-12-21         lazer                Sua Academia   119.90\n",
       " 20  2022-12-23     vestuário      Havaianas Vila Mascote    64.99\n",
       " 21  2022-12-24        outros                    Wow Cell    40.00\n",
       " 22  2022-12-26   restaurante        Bistro Lanchonete Jb    32.00\n",
       " 23  2022-12-26    transporte            Uber *Uber *Trip    11.08\n",
       " 24  2022-12-26    transporte            Uber *Uber *Trip    11.98\n",
       " 25  2022-12-26   restaurante               Pag*Janelabar    32.00\n",
       " 26  2022-12-27    transporte      Filial 55 Mime Estrela    21.47\n",
       " 27  2022-12-27   restaurante      Rodosnak Gps Restauran    27.70\n",
       " 28  2022-12-27    transporte      Posto Barra Limpa I-Sh    15.99\n",
       " 29  2022-12-27     vestuário         Griffe Beto Carrero    29.00\n",
       " 30  2022-12-28  supermercado      Hiper Select Supermerc    19.62\n",
       " 31  2022-12-28  supermercado      Hiper Select Supermerc    98.53\n",
       " 32  2022-12-28   restaurante              Irmaos Meletti    27.68\n",
       " 33  2022-12-29   restaurante              Fuoco Pizzeria    71.00\n",
       " 34  2022-12-29   restaurante              Fuoco Pizzeria    44.00\n",
       " 35  2022-12-31  supermercado       Silvana de Oliveira F    19.75\n",
       " 36  2022-12-31  supermercado          Supermercado Magia    18.53\n",
       " 37  2023-01-01  supermercado            Mini Mercado Mms    55.80\n",
       " 38  2023-01-02    transporte      Auto Posto Novo Campec    26.00\n",
       " 39  2023-01-03  supermercado            Mini Mercado Mms    20.00\n",
       " 40  2023-01-03          casa                   Hiper Bom    15.32\n",
       " 41  2023-01-06     vestuário        Pag*Greenvalleystore    59.90\n",
       " 42  2023-01-06         lazer             Pag*Greenvalley   380.00\n",
       " 43  2023-01-06  supermercado      Poko Preco Supermercad    83.15\n",
       " 44  2023-01-07    transporte                Posto Morada    24.50\n",
       " 45  2023-01-07    transporte                 Monte Carlo    35.50\n",
       " 46  2023-01-07          casa      Mercadao Atacadista Co    48.10\n",
       " 47  2023-01-09   restaurante                    All Kone    69.58\n",
       " 48  2023-01-10      serviços              Apple.Com/Bill     7.90\n",
       " 49  2023-01-10    transporte            Uber *Uber *Trip    24.94\n",
       " 50  2023-01-10    transporte            Uber *Uber *Trip    24.93,\n",
       "           date      category                       title   amount\n",
       " 0   2023-01-13     vestuário  da Mami Confeccoes Imp 5/5   104.38\n",
       " 1   2023-01-13     vestuário            Centauro Com 3/3    59.99\n",
       " 2   2023-01-13  supermercado             Nicole Pizzaria    36.40\n",
       " 3   2023-01-13     vestuário         Lojas Renner Fl 2/2    59.90\n",
       " 4   2023-01-13     vestuário               Ebw*Shein 4/4    36.84\n",
       " 5   2023-01-13         lazer  Beto Carrero*Beto Carr 3/4    94.95\n",
       " 6   2023-01-13   eletrônicos            Mlp*Netshoes 3/6    71.66\n",
       " 7   2023-01-14      serviços              Apple.Com/Bill    10.90\n",
       " 8   2023-01-14      serviços                    Pag*Caio   100.00\n",
       " 9   2023-01-17           NaN          Pagamento recebido -2310.28\n",
       " 10  2023-01-19  supermercado        Adega e Mercearia Mo    47.21\n",
       " 11  2023-01-19     vestuário            Cea Itl 280 Ecpc    39.99\n",
       " 12  2023-01-19   restaurante         Shopping Interlagos    12.90\n",
       " 13  2023-01-20    transporte            Uber *Uber *Trip    14.96\n",
       " 14  2023-01-21      serviços                    Pag*Caio    30.00\n",
       " 15  2023-01-22         lazer                Sua Academia   119.90\n",
       " 16  2023-01-23  supermercado            Ja Pode Comercio    27.91\n",
       " 17  2023-01-26     vestuário       Rute Falco Atelie 1/6    88.30\n",
       " 18  2023-01-26           NaN          Pagamento recebido  -110.00\n",
       " 19  2023-01-26    transporte            Uber *Uber *Trip    14.98\n",
       " 20  2023-01-26           NaN          Pagamento recebido  -100.00\n",
       " 21  2023-01-26         saúde   Dental Med Sul Artigo 1/2   197.28\n",
       " 22  2023-01-27         saúde  Dental Med Sul Artigo 1/10   199.00\n",
       " 23  2023-01-28           NaN          Pagamento recebido   -60.00\n",
       " 24  2023-01-29    transporte       Estapar*Zad*Sao*Paulo    12.16\n",
       " 25  2023-01-29    transporte      Berlin *Perola do Broo    21.80\n",
       " 26  2023-02-03   restaurante                Bala de Coco     8.00\n",
       " 27  2023-02-05           NaN          Pagamento recebido   -10.00\n",
       " 28  2023-02-11    transporte       Estapar*Zad*Sao*Paulo     6.08\n",
       " 29  2023-02-11      serviços              Apple.Com/Bill     7.90,\n",
       "           date      category                       title   amount\n",
       " 0   2023-02-13     vestuário       Rute Falco Atelie 2/6    88.32\n",
       " 1   2023-02-13         lazer  Beto Carrero*Beto Carr 4/4    94.95\n",
       " 2   2023-02-13         saúde   Dental Med Sul Artigo 2/2   197.28\n",
       " 3   2023-02-13         saúde  Dental Med Sul Artigo 2/10   199.00\n",
       " 4   2023-02-13   eletrônicos            Mlp*Netshoes 4/6    71.66\n",
       " 5   2023-02-15      serviços              Apple.Com/Bill    10.90\n",
       " 6   2023-02-19           NaN          Pagamento recebido -1143.39\n",
       " 7   2023-02-21        viagem             Pag*Rosangelada    45.00\n",
       " 8   2023-02-21         lazer                Sua Academia   119.90\n",
       " 9   2023-02-22   restaurante               Padaria Moura    14.00\n",
       " 10  2023-02-23  supermercado           Pag*Gersondoprado    15.00\n",
       " 11  2023-02-24   restaurante                Bala de Coco    10.50\n",
       " 12  2023-02-26   restaurante       Jbr Bar e Restaurante     8.00\n",
       " 13  2023-02-26  supermercado      Imigrantes Mercantil L    76.89\n",
       " 14  2023-02-26   restaurante          Lanchonete Terenos    16.00\n",
       " 15  2023-02-27  supermercado      Saclao Vila das Merces     8.64\n",
       " 16  2023-02-27  supermercado               Br Ice Matriz    26.99\n",
       " 17  2023-02-27   restaurante      Blues Burguer Comercio    29.80\n",
       " 18  2023-03-01         saúde              Oticas Mariana   150.00\n",
       " 19  2023-03-01  supermercado       Natural da Terra Vila    21.48\n",
       " 20  2023-03-02         saúde            Dental Speed 1/2   107.62\n",
       " 21  2023-03-02        outros                   Lojas Mel     9.99\n",
       " 22  2023-03-05    transporte       Estapar*Zad*Sao*Paulo     6.08\n",
       " 23  2023-03-07   restaurante       Coffer Shop Vila Nova    20.00\n",
       " 24  2023-03-10      serviços              Apple.Com/Bill     7.90\n",
       " 25  2023-03-12   restaurante             Oficina do Beco    40.00]"
      ]
     },
     "execution_count": 27,
     "metadata": {},
     "output_type": "execute_result"
    }
   ],
   "source": [
    "reading_ext()"
   ]
  },
  {
   "cell_type": "code",
   "execution_count": 28,
   "id": "c5e8688f",
   "metadata": {},
   "outputs": [],
   "source": [
    "def amount():\n",
    "    \n",
    "    meses = [0,1,2]\n",
    "    valor = 0\n",
    "    amount = []\n",
    "        \n",
    "    for mes in meses:\n",
    "        \n",
    "        extratos = reading_ext()[mes]\n",
    "    \n",
    "        x = len(extratos.index)\n",
    "        z = 0\n",
    "    \n",
    "        while (z < x):\n",
    "        \n",
    "            valor = extratos.at[z,'amount']\n",
    "            amount.append(valor)\n",
    "            z = z + 1\n",
    "        \n",
    "    return amount"
   ]
  },
  {
   "cell_type": "code",
   "execution_count": 29,
   "id": "2c3d1510",
   "metadata": {},
   "outputs": [],
   "source": [
    "def category():\n",
    "    \n",
    "    meses = [0,1,2]\n",
    "    category = []\n",
    "    label = ''\n",
    "        \n",
    "    for mes in meses:\n",
    "        \n",
    "        extratos = reading_ext()[mes]\n",
    "    \n",
    "        x = len(extratos.index)\n",
    "        z = 0\n",
    "    \n",
    "        while (z < x):\n",
    "        \n",
    "            label = extratos.at[z,'category']\n",
    "            category.append(label)\n",
    "            z = z + 1\n",
    "        \n",
    "    return category"
   ]
  },
  {
   "cell_type": "code",
   "execution_count": 30,
   "id": "0e7fd95e",
   "metadata": {},
   "outputs": [],
   "source": [
    "def index():\n",
    "    \n",
    "    meses = [0,1,2]\n",
    "    index = []\n",
    "    index_ex = []\n",
    "    \n",
    "    for mes in meses:\n",
    "        \n",
    "        index_mes = len(reading_ext()[mes].index)\n",
    "        index.append(index_mes)\n",
    "        \n",
    "    i = sum(index)\n",
    "    z = 0\n",
    "    \n",
    "    while (z < i):\n",
    "        \n",
    "        index_ex.append(z)\n",
    "        z = z + 1\n",
    "        \n",
    "    return index_ex"
   ]
  },
  {
   "cell_type": "code",
   "execution_count": 31,
   "id": "caea0e3b",
   "metadata": {},
   "outputs": [],
   "source": [
    "def data_frame():\n",
    "    \n",
    "    df = pd.DataFrame({'Categoria': category(),\n",
    "                  'Valor': amount()},\n",
    "                  index=index())\n",
    "    \n",
    "    return df"
   ]
  },
  {
   "cell_type": "markdown",
   "id": "cc70d7f3",
   "metadata": {},
   "source": [
    "# Reconhecimento superficial da distribuição dos dados"
   ]
  },
  {
   "cell_type": "code",
   "execution_count": 70,
   "id": "a0a2f707",
   "metadata": {
    "scrolled": true
   },
   "outputs": [
    {
     "data": {
      "text/html": [
       "<div>\n",
       "<style scoped>\n",
       "    .dataframe tbody tr th:only-of-type {\n",
       "        vertical-align: middle;\n",
       "    }\n",
       "\n",
       "    .dataframe tbody tr th {\n",
       "        vertical-align: top;\n",
       "    }\n",
       "\n",
       "    .dataframe thead th {\n",
       "        text-align: right;\n",
       "    }\n",
       "</style>\n",
       "<table border=\"1\" class=\"dataframe\">\n",
       "  <thead>\n",
       "    <tr style=\"text-align: right;\">\n",
       "      <th></th>\n",
       "      <th>Categoria</th>\n",
       "      <th>Valor</th>\n",
       "    </tr>\n",
       "  </thead>\n",
       "  <tbody>\n",
       "    <tr>\n",
       "      <th>0</th>\n",
       "      <td>vestuário</td>\n",
       "      <td>104.38</td>\n",
       "    </tr>\n",
       "    <tr>\n",
       "      <th>1</th>\n",
       "      <td>vestuário</td>\n",
       "      <td>59.99</td>\n",
       "    </tr>\n",
       "    <tr>\n",
       "      <th>3</th>\n",
       "      <td>vestuário</td>\n",
       "      <td>36.84</td>\n",
       "    </tr>\n",
       "    <tr>\n",
       "      <th>4</th>\n",
       "      <td>lazer</td>\n",
       "      <td>94.95</td>\n",
       "    </tr>\n",
       "    <tr>\n",
       "      <th>5</th>\n",
       "      <td>eletrônicos</td>\n",
       "      <td>71.66</td>\n",
       "    </tr>\n",
       "  </tbody>\n",
       "</table>\n",
       "</div>"
      ],
      "text/plain": [
       "     Categoria   Valor\n",
       "0    vestuário  104.38\n",
       "1    vestuário   59.99\n",
       "3    vestuário   36.84\n",
       "4        lazer   94.95\n",
       "5  eletrônicos   71.66"
      ]
     },
     "execution_count": 70,
     "metadata": {},
     "output_type": "execute_result"
    }
   ],
   "source": [
    "extrato = data_frame().drop(data_frame().index[[2,60,69,71,74,78,87]])\n",
    "extrato.head()"
   ]
  },
  {
   "cell_type": "code",
   "execution_count": 157,
   "id": "07106647",
   "metadata": {},
   "outputs": [
    {
     "data": {
      "text/plain": [
       "<Figure size 936x504 with 0 Axes>"
      ]
     },
     "metadata": {},
     "output_type": "display_data"
    },
    {
     "data": {
      "image/png": "[encoded data removed]",
      "text/plain": [
       "<Figure size 432x288 with 1 Axes>"
      ]
     },
     "metadata": {},
     "output_type": "display_data"
    }
   ],
   "source": [
    "plt.style.use(\"cyberpunk\")\n",
    "plt.figure(figsize=(13,7))\n",
    "extrato.plot()\n",
    "plt.savefig('fluxo.png', dpi = 300)"
   ]
  },
  {
   "cell_type": "code",
   "execution_count": 170,
   "id": "d9d0b39a",
   "metadata": {},
   "outputs": [],
   "source": [
    "def moving_avg(period):\n",
    "    \n",
    "    plt.figure(figsize=(13,7))\n",
    "    extrato['Valor'].rolling(window=period).mean().plot(label=f'Média Móvel de {period} Dias')\n",
    "    extrato['Valor'].plot(label='Fluxo de saída')\n",
    "    plt.legend()\n",
    "    plt.show()"
   ]
  },
  {
   "cell_type": "code",
   "execution_count": 178,
   "id": "42f9c45b",
   "metadata": {},
   "outputs": [
    {
     "data": {
      "image/png": "[encoded data removed]",
      "text/plain": [
       "<Figure size 936x504 with 1 Axes>"
      ]
     },
     "metadata": {},
     "output_type": "display_data"
    },
    {
     "data": {
      "text/plain": [
       "<Figure size 144x144 with 0 Axes>"
      ]
     },
     "metadata": {},
     "output_type": "display_data"
    }
   ],
   "source": [
    "media7 = moving_avg(7)\n",
    "plt.savefig('media7.png', dpi = 300)"
   ]
  },
  {
   "cell_type": "code",
   "execution_count": 177,
   "id": "766ad50f",
   "metadata": {},
   "outputs": [
    {
     "data": {
      "application/vnd.plotly.v1+json": {
       "config": {
        "plotlyServerURL": "https://plot.ly"
       },
       "data": [
        {
         "domain": {
          "x": [
           0,
           1
          ],
          "y": [
           0,
           1
          ]
         },
         "hovertemplate": "label=%{label}<br>value=%{value}<extra></extra>",
         "labels": [
          "vestuário",
          "vestuário",
          "vestuário",
          "lazer",
          "eletrônicos",
          "vestuário",
          "serviços",
          "vestuário",
          "outros",
          "saúde",
          "transporte",
          "supermercado",
          "eletrônicos",
          "supermercado",
          "supermercado",
          "supermercado",
          "outros",
          "supermercado",
          "lazer",
          "vestuário",
          "outros",
          "restaurante",
          "transporte",
          "transporte",
          "restaurante",
          "transporte",
          "restaurante",
          "transporte",
          "vestuário",
          "supermercado",
          "supermercado",
          "restaurante",
          "restaurante",
          "restaurante",
          "supermercado",
          "supermercado",
          "supermercado",
          "transporte",
          "supermercado",
          "casa",
          "vestuário",
          "lazer",
          "supermercado",
          "transporte",
          "transporte",
          "casa",
          "restaurante",
          "serviços",
          "transporte",
          "transporte",
          "vestuário",
          "vestuário",
          "supermercado",
          "vestuário",
          "vestuário",
          "lazer",
          "eletrônicos",
          "serviços",
          "serviços",
          "supermercado",
          "vestuário",
          "restaurante",
          "transporte",
          "serviços",
          "lazer",
          "supermercado",
          "vestuário",
          "transporte",
          "saúde",
          "saúde",
          "transporte",
          "transporte",
          "restaurante",
          "transporte",
          "serviços",
          "vestuário",
          "lazer",
          "saúde",
          "saúde",
          "eletrônicos",
          "serviços",
          "viagem",
          "lazer",
          "restaurante",
          "supermercado",
          "restaurante",
          "restaurante",
          "supermercado",
          "restaurante",
          "supermercado",
          "supermercado",
          "restaurante",
          "saúde",
          "supermercado",
          "saúde",
          "outros",
          "transporte",
          "restaurante",
          "serviços",
          "restaurante"
         ],
         "legendgroup": "",
         "name": "",
         "showlegend": true,
         "type": "pie",
         "values": [
          104.38,
          59.99,
          36.84,
          94.95,
          71.66,
          59.9,
          10.9,
          40,
          10,
          32.82,
          17.29,
          32,
          29.5,
          11,
          41.25,
          22.99,
          29.97,
          24,
          119.9,
          64.99,
          40,
          32,
          11.08,
          11.98,
          32,
          21.47,
          27.7,
          15.99,
          29,
          19.62,
          98.53,
          27.68,
          71,
          44,
          19.75,
          18.53,
          55.8,
          26,
          20,
          15.32,
          59.9,
          380,
          83.15,
          24.5,
          35.5,
          48.1,
          69.58,
          7.9,
          24.94,
          24.93,
          104.38,
          59.99,
          36.4,
          59.9,
          36.84,
          94.95,
          71.66,
          10.9,
          100,
          47.21,
          39.99,
          12.9,
          14.96,
          30,
          119.9,
          27.91,
          88.3,
          14.98,
          197.28,
          199,
          12.16,
          21.8,
          8,
          6.08,
          7.9,
          88.32,
          94.95,
          197.28,
          199,
          71.66,
          10.9,
          45,
          119.9,
          14,
          15,
          10.5,
          8,
          76.89,
          16,
          8.64,
          26.99,
          29.8,
          150,
          21.48,
          107.62,
          9.99,
          6.08,
          20,
          7.9,
          40
         ]
        }
       ],
       "layout": {
        "legend": {
         "tracegroupgap": 0
        },
        "margin": {
         "t": 60
        },
        "template": {
         "data": {
          "bar": [
           {
            "error_x": {
             "color": "#2a3f5f"
            },
            "error_y": {
             "color": "#2a3f5f"
            },
            "marker": {
             "line": {
              "color": "#E5ECF6",
              "width": 0.5
             },
             "pattern": {
              "fillmode": "overlay",
              "size": 10,
              "solidity": 0.2
             }
            },
            "type": "bar"
           }
          ],
          "barpolar": [
           {
            "marker": {
             "line": {
              "color": "#E5ECF6",
              "width": 0.5
             },
             "pattern": {
              "fillmode": "overlay",
              "size": 10,
              "solidity": 0.2
             }
            },
            "type": "barpolar"
           }
          ],
          "carpet": [
           {
            "aaxis": {
             "endlinecolor": "#2a3f5f",
             "gridcolor": "white",
             "linecolor": "white",
             "minorgridcolor": "white",
             "startlinecolor": "#2a3f5f"
            },
            "baxis": {
             "endlinecolor": "#2a3f5f",
             "gridcolor": "white",
             "linecolor": "white",
             "minorgridcolor": "white",
             "startlinecolor": "#2a3f5f"
            },
            "type": "carpet"
           }
          ],
          "choropleth": [
           {
            "colorbar": {
             "outlinewidth": 0,
             "ticks": ""
            },
            "type": "choropleth"
           }
          ],
          "contour": [
           {
            "colorbar": {
             "outlinewidth": 0,
             "ticks": ""
            },
            "colorscale": [
             [
              0,
              "#0d0887"
             ],
             [
              0.1111111111111111,
              "#46039f"
             ],
             [
              0.2222222222222222,
              "#7201a8"
             ],
             [
              0.3333333333333333,
              "#9c179e"
             ],
             [
              0.4444444444444444,
              "#bd3786"
             ],
             [
              0.5555555555555556,
              "#d8576b"
             ],
             [
              0.6666666666666666,
              "#ed7953"
             ],
             [
              0.7777777777777778,
              "#fb9f3a"
             ],
             [
              0.8888888888888888,
              "#fdca26"
             ],
             [
              1,
              "#f0f921"
             ]
            ],
            "type": "contour"
           }
          ],
          "contourcarpet": [
           {
            "colorbar": {
             "outlinewidth": 0,
             "ticks": ""
            },
            "type": "contourcarpet"
           }
          ],
          "heatmap": [
           {
            "colorbar": {
             "outlinewidth": 0,
             "ticks": ""
            },
            "colorscale": [
             [
              0,
              "#0d0887"
             ],
             [
              0.1111111111111111,
              "#46039f"
             ],
             [
              0.2222222222222222,
              "#7201a8"
             ],
             [
              0.3333333333333333,
              "#9c179e"
             ],
             [
              0.4444444444444444,
              "#bd3786"
             ],
             [
              0.5555555555555556,
              "#d8576b"
             ],
             [
              0.6666666666666666,
              "#ed7953"
             ],
             [
              0.7777777777777778,
              "#fb9f3a"
             ],
             [
              0.8888888888888888,
              "#fdca26"
             ],
             [
              1,
              "#f0f921"
             ]
            ],
            "type": "heatmap"
           }
          ],
          "heatmapgl": [
           {
            "colorbar": {
             "outlinewidth": 0,
             "ticks": ""
            },
            "colorscale": [
             [
              0,
              "#0d0887"
             ],
             [
              0.1111111111111111,
              "#46039f"
             ],
             [
              0.2222222222222222,
              "#7201a8"
             ],
             [
              0.3333333333333333,
              "#9c179e"
             ],
             [
              0.4444444444444444,
              "#bd3786"
             ],
             [
              0.5555555555555556,
              "#d8576b"
             ],
             [
              0.6666666666666666,
              "#ed7953"
             ],
             [
              0.7777777777777778,
              "#fb9f3a"
             ],
             [
              0.8888888888888888,
              "#fdca26"
             ],
             [
              1,
              "#f0f921"
             ]
            ],
            "type": "heatmapgl"
           }
          ],
          "histogram": [
           {
            "marker": {
             "pattern": {
              "fillmode": "overlay",
              "size": 10,
              "solidity": 0.2
             }
            },
            "type": "histogram"
           }
          ],
          "histogram2d": [
           {
            "colorbar": {
             "outlinewidth": 0,
             "ticks": ""
            },
            "colorscale": [
             [
              0,
              "#0d0887"
             ],
             [
              0.1111111111111111,
              "#46039f"
             ],
             [
              0.2222222222222222,
              "#7201a8"
             ],
             [
              0.3333333333333333,
              "#9c179e"
             ],
             [
              0.4444444444444444,
              "#bd3786"
             ],
             [
              0.5555555555555556,
              "#d8576b"
             ],
             [
              0.6666666666666666,
              "#ed7953"
             ],
             [
              0.7777777777777778,
              "#fb9f3a"
             ],
             [
              0.8888888888888888,
              "#fdca26"
             ],
             [
              1,
              "#f0f921"
             ]
            ],
            "type": "histogram2d"
           }
          ],
          "histogram2dcontour": [
           {
            "colorbar": {
             "outlinewidth": 0,
             "ticks": ""
            },
            "colorscale": [
             [
              0,
              "#0d0887"
             ],
             [
              0.1111111111111111,
              "#46039f"
             ],
             [
              0.2222222222222222,
              "#7201a8"
             ],
             [
              0.3333333333333333,
              "#9c179e"
             ],
             [
              0.4444444444444444,
              "#bd3786"
             ],
             [
              0.5555555555555556,
              "#d8576b"
             ],
             [
              0.6666666666666666,
              "#ed7953"
             ],
             [
              0.7777777777777778,
              "#fb9f3a"
             ],
             [
              0.8888888888888888,
              "#fdca26"
             ],
             [
              1,
              "#f0f921"
             ]
            ],
            "type": "histogram2dcontour"
           }
          ],
          "mesh3d": [
           {
            "colorbar": {
             "outlinewidth": 0,
             "ticks": ""
            },
            "type": "mesh3d"
           }
          ],
          "parcoords": [
           {
            "line": {
             "colorbar": {
              "outlinewidth": 0,
              "ticks": ""
             }
            },
            "type": "parcoords"
           }
          ],
          "pie": [
           {
            "automargin": true,
            "type": "pie"
           }
          ],
          "scatter": [
           {
            "fillpattern": {
             "fillmode": "overlay",
             "size": 10,
             "solidity": 0.2
            },
            "type": "scatter"
           }
          ],
          "scatter3d": [
           {
            "line": {
             "colorbar": {
              "outlinewidth": 0,
              "ticks": ""
             }
            },
            "marker": {
             "colorbar": {
              "outlinewidth": 0,
              "ticks": ""
             }
            },
            "type": "scatter3d"
           }
          ],
          "scattercarpet": [
           {
            "marker": {
             "colorbar": {
              "outlinewidth": 0,
              "ticks": ""
             }
            },
            "type": "scattercarpet"
           }
          ],
          "scattergeo": [
           {
            "marker": {
             "colorbar": {
              "outlinewidth": 0,
              "ticks": ""
             }
            },
            "type": "scattergeo"
           }
          ],
          "scattergl": [
           {
            "marker": {
             "colorbar": {
              "outlinewidth": 0,
              "ticks": ""
             }
            },
            "type": "scattergl"
           }
          ],
          "scattermapbox": [
           {
            "marker": {
             "colorbar": {
              "outlinewidth": 0,
              "ticks": ""
             }
            },
            "type": "scattermapbox"
           }
          ],
          "scatterpolar": [
           {
            "marker": {
             "colorbar": {
              "outlinewidth": 0,
              "ticks": ""
             }
            },
            "type": "scatterpolar"
           }
          ],
          "scatterpolargl": [
           {
            "marker": {
             "colorbar": {
              "outlinewidth": 0,
              "ticks": ""
             }
            },
            "type": "scatterpolargl"
           }
          ],
          "scatterternary": [
           {
            "marker": {
             "colorbar": {
              "outlinewidth": 0,
              "ticks": ""
             }
            },
            "type": "scatterternary"
           }
          ],
          "surface": [
           {
            "colorbar": {
             "outlinewidth": 0,
             "ticks": ""
            },
            "colorscale": [
             [
              0,
              "#0d0887"
             ],
             [
              0.1111111111111111,
              "#46039f"
             ],
             [
              0.2222222222222222,
              "#7201a8"
             ],
             [
              0.3333333333333333,
              "#9c179e"
             ],
             [
              0.4444444444444444,
              "#bd3786"
             ],
             [
              0.5555555555555556,
              "#d8576b"
             ],
             [
              0.6666666666666666,
              "#ed7953"
             ],
             [
              0.7777777777777778,
              "#fb9f3a"
             ],
             [
              0.8888888888888888,
              "#fdca26"
             ],
             [
              1,
              "#f0f921"
             ]
            ],
            "type": "surface"
           }
          ],
          "table": [
           {
            "cells": {
             "fill": {
              "color": "#EBF0F8"
             },
             "line": {
              "color": "white"
             }
            },
            "header": {
             "fill": {
              "color": "#C8D4E3"
             },
             "line": {
              "color": "white"
             }
            },
            "type": "table"
           }
          ]
         },
         "layout": {
          "annotationdefaults": {
           "arrowcolor": "#2a3f5f",
           "arrowhead": 0,
           "arrowwidth": 1
          },
          "autotypenumbers": "strict",
          "coloraxis": {
           "colorbar": {
            "outlinewidth": 0,
            "ticks": ""
           }
          },
          "colorscale": {
           "diverging": [
            [
             0,
             "#8e0152"
            ],
            [
             0.1,
             "#c51b7d"
            ],
            [
             0.2,
             "#de77ae"
            ],
            [
             0.3,
             "#f1b6da"
            ],
            [
             0.4,
             "#fde0ef"
            ],
            [
             0.5,
             "#f7f7f7"
            ],
            [
             0.6,
             "#e6f5d0"
            ],
            [
             0.7,
             "#b8e186"
            ],
            [
             0.8,
             "#7fbc41"
            ],
            [
             0.9,
             "#4d9221"
            ],
            [
             1,
             "#276419"
            ]
           ],
           "sequential": [
            [
             0,
             "#0d0887"
            ],
            [
             0.1111111111111111,
             "#46039f"
            ],
            [
             0.2222222222222222,
             "#7201a8"
            ],
            [
             0.3333333333333333,
             "#9c179e"
            ],
            [
             0.4444444444444444,
             "#bd3786"
            ],
            [
             0.5555555555555556,
             "#d8576b"
            ],
            [
             0.6666666666666666,
             "#ed7953"
            ],
            [
             0.7777777777777778,
             "#fb9f3a"
            ],
            [
             0.8888888888888888,
             "#fdca26"
            ],
            [
             1,
             "#f0f921"
            ]
           ],
           "sequentialminus": [
            [
             0,
             "#0d0887"
            ],
            [
             0.1111111111111111,
             "#46039f"
            ],
            [
             0.2222222222222222,
             "#7201a8"
            ],
            [
             0.3333333333333333,
             "#9c179e"
            ],
            [
             0.4444444444444444,
             "#bd3786"
            ],
            [
             0.5555555555555556,
             "#d8576b"
            ],
            [
             0.6666666666666666,
             "#ed7953"
            ],
            [
             0.7777777777777778,
             "#fb9f3a"
            ],
            [
             0.8888888888888888,
             "#fdca26"
            ],
            [
             1,
             "#f0f921"
            ]
           ]
          },
          "colorway": [
           "#636efa",
           "#EF553B",
           "#00cc96",
           "#ab63fa",
           "#FFA15A",
           "#19d3f3",
           "#FF6692",
           "#B6E880",
           "#FF97FF",
           "#FECB52"
          ],
          "font": {
           "color": "#2a3f5f"
          },
          "geo": {
           "bgcolor": "white",
           "lakecolor": "white",
           "landcolor": "#E5ECF6",
           "showlakes": true,
           "showland": true,
           "subunitcolor": "white"
          },
          "hoverlabel": {
           "align": "left"
          },
          "hovermode": "closest",
          "mapbox": {
           "style": "light"
          },
          "paper_bgcolor": "white",
          "plot_bgcolor": "#E5ECF6",
          "polar": {
           "angularaxis": {
            "gridcolor": "white",
            "linecolor": "white",
            "ticks": ""
           },
           "bgcolor": "#E5ECF6",
           "radialaxis": {
            "gridcolor": "white",
            "linecolor": "white",
            "ticks": ""
           }
          },
          "scene": {
           "xaxis": {
            "backgroundcolor": "#E5ECF6",
            "gridcolor": "white",
            "gridwidth": 2,
            "linecolor": "white",
            "showbackground": true,
            "ticks": "",
            "zerolinecolor": "white"
           },
           "yaxis": {
            "backgroundcolor": "#E5ECF6",
            "gridcolor": "white",
            "gridwidth": 2,
            "linecolor": "white",
            "showbackground": true,
            "ticks": "",
            "zerolinecolor": "white"
           },
           "zaxis": {
            "backgroundcolor": "#E5ECF6",
            "gridcolor": "white",
            "gridwidth": 2,
            "linecolor": "white",
            "showbackground": true,
            "ticks": "",
            "zerolinecolor": "white"
           }
          },
          "shapedefaults": {
           "line": {
            "color": "#2a3f5f"
           }
          },
          "ternary": {
           "aaxis": {
            "gridcolor": "white",
            "linecolor": "white",
            "ticks": ""
           },
           "baxis": {
            "gridcolor": "white",
            "linecolor": "white",
            "ticks": ""
           },
           "bgcolor": "#E5ECF6",
           "caxis": {
            "gridcolor": "white",
            "linecolor": "white",
            "ticks": ""
           }
          },
          "title": {
           "x": 0.05
          },
          "xaxis": {
           "automargin": true,
           "gridcolor": "white",
           "linecolor": "white",
           "ticks": "",
           "title": {
            "standoff": 15
           },
           "zerolinecolor": "white",
           "zerolinewidth": 2
          },
          "yaxis": {
           "automargin": true,
           "gridcolor": "white",
           "linecolor": "white",
           "ticks": "",
           "title": {
            "standoff": 15
           },
           "zerolinecolor": "white",
           "zerolinewidth": 2
          }
         }
        }
       }
      },
      "text/html": [
       "<div>                            <div id=\"a945c30b-9d5f-4506-a3d6-27c5208cb6fc\" class=\"plotly-graph-div\" style=\"height:525px; width:100%;\"></div>            <script type=\"text/javascript\">                require([\"plotly\"], function(Plotly) {                    window.PLOTLYENV=window.PLOTLYENV || {};                                    if (document.getElementById(\"a945c30b-9d5f-4506-a3d6-27c5208cb6fc\")) {                    Plotly.newPlot(                        \"a945c30b-9d5f-4506-a3d6-27c5208cb6fc\",                        [{\"domain\":{\"x\":[0.0,1.0],\"y\":[0.0,1.0]},\"hovertemplate\":\"label=%{label}<br>value=%{value}<extra></extra>\",\"labels\":[\"vestu\\u00e1rio\",\"vestu\\u00e1rio\",\"vestu\\u00e1rio\",\"lazer\",\"eletr\\u00f4nicos\",\"vestu\\u00e1rio\",\"servi\\u00e7os\",\"vestu\\u00e1rio\",\"outros\",\"sa\\u00fade\",\"transporte\",\"supermercado\",\"eletr\\u00f4nicos\",\"supermercado\",\"supermercado\",\"supermercado\",\"outros\",\"supermercado\",\"lazer\",\"vestu\\u00e1rio\",\"outros\",\"restaurante\",\"transporte\",\"transporte\",\"restaurante\",\"transporte\",\"restaurante\",\"transporte\",\"vestu\\u00e1rio\",\"supermercado\",\"supermercado\",\"restaurante\",\"restaurante\",\"restaurante\",\"supermercado\",\"supermercado\",\"supermercado\",\"transporte\",\"supermercado\",\"casa\",\"vestu\\u00e1rio\",\"lazer\",\"supermercado\",\"transporte\",\"transporte\",\"casa\",\"restaurante\",\"servi\\u00e7os\",\"transporte\",\"transporte\",\"vestu\\u00e1rio\",\"vestu\\u00e1rio\",\"supermercado\",\"vestu\\u00e1rio\",\"vestu\\u00e1rio\",\"lazer\",\"eletr\\u00f4nicos\",\"servi\\u00e7os\",\"servi\\u00e7os\",\"supermercado\",\"vestu\\u00e1rio\",\"restaurante\",\"transporte\",\"servi\\u00e7os\",\"lazer\",\"supermercado\",\"vestu\\u00e1rio\",\"transporte\",\"sa\\u00fade\",\"sa\\u00fade\",\"transporte\",\"transporte\",\"restaurante\",\"transporte\",\"servi\\u00e7os\",\"vestu\\u00e1rio\",\"lazer\",\"sa\\u00fade\",\"sa\\u00fade\",\"eletr\\u00f4nicos\",\"servi\\u00e7os\",\"viagem\",\"lazer\",\"restaurante\",\"supermercado\",\"restaurante\",\"restaurante\",\"supermercado\",\"restaurante\",\"supermercado\",\"supermercado\",\"restaurante\",\"sa\\u00fade\",\"supermercado\",\"sa\\u00fade\",\"outros\",\"transporte\",\"restaurante\",\"servi\\u00e7os\",\"restaurante\"],\"legendgroup\":\"\",\"name\":\"\",\"showlegend\":true,\"values\":[104.38,59.99,36.84,94.95,71.66,59.9,10.9,40.0,10.0,32.82,17.29,32.0,29.5,11.0,41.25,22.99,29.97,24.0,119.9,64.99,40.0,32.0,11.08,11.98,32.0,21.47,27.7,15.99,29.0,19.62,98.53,27.68,71.0,44.0,19.75,18.53,55.8,26.0,20.0,15.32,59.9,380.0,83.15,24.5,35.5,48.1,69.58,7.9,24.94,24.93,104.38,59.99,36.4,59.9,36.84,94.95,71.66,10.9,100.0,47.21,39.99,12.9,14.96,30.0,119.9,27.91,88.3,14.98,197.28,199.0,12.16,21.8,8.0,6.08,7.9,88.32,94.95,197.28,199.0,71.66,10.9,45.0,119.9,14.0,15.0,10.5,8.0,76.89,16.0,8.64,26.99,29.8,150.0,21.48,107.62,9.99,6.08,20.0,7.9,40.0],\"type\":\"pie\"}],                        {\"template\":{\"data\":{\"histogram2dcontour\":[{\"type\":\"histogram2dcontour\",\"colorbar\":{\"outlinewidth\":0,\"ticks\":\"\"},\"colorscale\":[[0.0,\"#0d0887\"],[0.1111111111111111,\"#46039f\"],[0.2222222222222222,\"#7201a8\"],[0.3333333333333333,\"#9c179e\"],[0.4444444444444444,\"#bd3786\"],[0.5555555555555556,\"#d8576b\"],[0.6666666666666666,\"#ed7953\"],[0.7777777777777778,\"#fb9f3a\"],[0.8888888888888888,\"#fdca26\"],[1.0,\"#f0f921\"]]}],\"choropleth\":[{\"type\":\"choropleth\",\"colorbar\":{\"outlinewidth\":0,\"ticks\":\"\"}}],\"histogram2d\":[{\"type\":\"histogram2d\",\"colorbar\":{\"outlinewidth\":0,\"ticks\":\"\"},\"colorscale\":[[0.0,\"#0d0887\"],[0.1111111111111111,\"#46039f\"],[0.2222222222222222,\"#7201a8\"],[0.3333333333333333,\"#9c179e\"],[0.4444444444444444,\"#bd3786\"],[0.5555555555555556,\"#d8576b\"],[0.6666666666666666,\"#ed7953\"],[0.7777777777777778,\"#fb9f3a\"],[0.8888888888888888,\"#fdca26\"],[1.0,\"#f0f921\"]]}],\"heatmap\":[{\"type\":\"heatmap\",\"colorbar\":{\"outlinewidth\":0,\"ticks\":\"\"},\"colorscale\":[[0.0,\"#0d0887\"],[0.1111111111111111,\"#46039f\"],[0.2222222222222222,\"#7201a8\"],[0.3333333333333333,\"#9c179e\"],[0.4444444444444444,\"#bd3786\"],[0.5555555555555556,\"#d8576b\"],[0.6666666666666666,\"#ed7953\"],[0.7777777777777778,\"#fb9f3a\"],[0.8888888888888888,\"#fdca26\"],[1.0,\"#f0f921\"]]}],\"heatmapgl\":[{\"type\":\"heatmapgl\",\"colorbar\":{\"outlinewidth\":0,\"ticks\":\"\"},\"colorscale\":[[0.0,\"#0d0887\"],[0.1111111111111111,\"#46039f\"],[0.2222222222222222,\"#7201a8\"],[0.3333333333333333,\"#9c179e\"],[0.4444444444444444,\"#bd3786\"],[0.5555555555555556,\"#d8576b\"],[0.6666666666666666,\"#ed7953\"],[0.7777777777777778,\"#fb9f3a\"],[0.8888888888888888,\"#fdca26\"],[1.0,\"#f0f921\"]]}],\"contourcarpet\":[{\"type\":\"contourcarpet\",\"colorbar\":{\"outlinewidth\":0,\"ticks\":\"\"}}],\"contour\":[{\"type\":\"contour\",\"colorbar\":{\"outlinewidth\":0,\"ticks\":\"\"},\"colorscale\":[[0.0,\"#0d0887\"],[0.1111111111111111,\"#46039f\"],[0.2222222222222222,\"#7201a8\"],[0.3333333333333333,\"#9c179e\"],[0.4444444444444444,\"#bd3786\"],[0.5555555555555556,\"#d8576b\"],[0.6666666666666666,\"#ed7953\"],[0.7777777777777778,\"#fb9f3a\"],[0.8888888888888888,\"#fdca26\"],[1.0,\"#f0f921\"]]}],\"surface\":[{\"type\":\"surface\",\"colorbar\":{\"outlinewidth\":0,\"ticks\":\"\"},\"colorscale\":[[0.0,\"#0d0887\"],[0.1111111111111111,\"#46039f\"],[0.2222222222222222,\"#7201a8\"],[0.3333333333333333,\"#9c179e\"],[0.4444444444444444,\"#bd3786\"],[0.5555555555555556,\"#d8576b\"],[0.6666666666666666,\"#ed7953\"],[0.7777777777777778,\"#fb9f3a\"],[0.8888888888888888,\"#fdca26\"],[1.0,\"#f0f921\"]]}],\"mesh3d\":[{\"type\":\"mesh3d\",\"colorbar\":{\"outlinewidth\":0,\"ticks\":\"\"}}],\"scatter\":[{\"fillpattern\":{\"fillmode\":\"overlay\",\"size\":10,\"solidity\":0.2},\"type\":\"scatter\"}],\"parcoords\":[{\"type\":\"parcoords\",\"line\":{\"colorbar\":{\"outlinewidth\":0,\"ticks\":\"\"}}}],\"scatterpolargl\":[{\"type\":\"scatterpolargl\",\"marker\":{\"colorbar\":{\"outlinewidth\":0,\"ticks\":\"\"}}}],\"bar\":[{\"error_x\":{\"color\":\"#2a3f5f\"},\"error_y\":{\"color\":\"#2a3f5f\"},\"marker\":{\"line\":{\"color\":\"#E5ECF6\",\"width\":0.5},\"pattern\":{\"fillmode\":\"overlay\",\"size\":10,\"solidity\":0.2}},\"type\":\"bar\"}],\"scattergeo\":[{\"type\":\"scattergeo\",\"marker\":{\"colorbar\":{\"outlinewidth\":0,\"ticks\":\"\"}}}],\"scatterpolar\":[{\"type\":\"scatterpolar\",\"marker\":{\"colorbar\":{\"outlinewidth\":0,\"ticks\":\"\"}}}],\"histogram\":[{\"marker\":{\"pattern\":{\"fillmode\":\"overlay\",\"size\":10,\"solidity\":0.2}},\"type\":\"histogram\"}],\"scattergl\":[{\"type\":\"scattergl\",\"marker\":{\"colorbar\":{\"outlinewidth\":0,\"ticks\":\"\"}}}],\"scatter3d\":[{\"type\":\"scatter3d\",\"line\":{\"colorbar\":{\"outlinewidth\":0,\"ticks\":\"\"}},\"marker\":{\"colorbar\":{\"outlinewidth\":0,\"ticks\":\"\"}}}],\"scattermapbox\":[{\"type\":\"scattermapbox\",\"marker\":{\"colorbar\":{\"outlinewidth\":0,\"ticks\":\"\"}}}],\"scatterternary\":[{\"type\":\"scatterternary\",\"marker\":{\"colorbar\":{\"outlinewidth\":0,\"ticks\":\"\"}}}],\"scattercarpet\":[{\"type\":\"scattercarpet\",\"marker\":{\"colorbar\":{\"outlinewidth\":0,\"ticks\":\"\"}}}],\"carpet\":[{\"aaxis\":{\"endlinecolor\":\"#2a3f5f\",\"gridcolor\":\"white\",\"linecolor\":\"white\",\"minorgridcolor\":\"white\",\"startlinecolor\":\"#2a3f5f\"},\"baxis\":{\"endlinecolor\":\"#2a3f5f\",\"gridcolor\":\"white\",\"linecolor\":\"white\",\"minorgridcolor\":\"white\",\"startlinecolor\":\"#2a3f5f\"},\"type\":\"carpet\"}],\"table\":[{\"cells\":{\"fill\":{\"color\":\"#EBF0F8\"},\"line\":{\"color\":\"white\"}},\"header\":{\"fill\":{\"color\":\"#C8D4E3\"},\"line\":{\"color\":\"white\"}},\"type\":\"table\"}],\"barpolar\":[{\"marker\":{\"line\":{\"color\":\"#E5ECF6\",\"width\":0.5},\"pattern\":{\"fillmode\":\"overlay\",\"size\":10,\"solidity\":0.2}},\"type\":\"barpolar\"}],\"pie\":[{\"automargin\":true,\"type\":\"pie\"}]},\"layout\":{\"autotypenumbers\":\"strict\",\"colorway\":[\"#636efa\",\"#EF553B\",\"#00cc96\",\"#ab63fa\",\"#FFA15A\",\"#19d3f3\",\"#FF6692\",\"#B6E880\",\"#FF97FF\",\"#FECB52\"],\"font\":{\"color\":\"#2a3f5f\"},\"hovermode\":\"closest\",\"hoverlabel\":{\"align\":\"left\"},\"paper_bgcolor\":\"white\",\"plot_bgcolor\":\"#E5ECF6\",\"polar\":{\"bgcolor\":\"#E5ECF6\",\"angularaxis\":{\"gridcolor\":\"white\",\"linecolor\":\"white\",\"ticks\":\"\"},\"radialaxis\":{\"gridcolor\":\"white\",\"linecolor\":\"white\",\"ticks\":\"\"}},\"ternary\":{\"bgcolor\":\"#E5ECF6\",\"aaxis\":{\"gridcolor\":\"white\",\"linecolor\":\"white\",\"ticks\":\"\"},\"baxis\":{\"gridcolor\":\"white\",\"linecolor\":\"white\",\"ticks\":\"\"},\"caxis\":{\"gridcolor\":\"white\",\"linecolor\":\"white\",\"ticks\":\"\"}},\"coloraxis\":{\"colorbar\":{\"outlinewidth\":0,\"ticks\":\"\"}},\"colorscale\":{\"sequential\":[[0.0,\"#0d0887\"],[0.1111111111111111,\"#46039f\"],[0.2222222222222222,\"#7201a8\"],[0.3333333333333333,\"#9c179e\"],[0.4444444444444444,\"#bd3786\"],[0.5555555555555556,\"#d8576b\"],[0.6666666666666666,\"#ed7953\"],[0.7777777777777778,\"#fb9f3a\"],[0.8888888888888888,\"#fdca26\"],[1.0,\"#f0f921\"]],\"sequentialminus\":[[0.0,\"#0d0887\"],[0.1111111111111111,\"#46039f\"],[0.2222222222222222,\"#7201a8\"],[0.3333333333333333,\"#9c179e\"],[0.4444444444444444,\"#bd3786\"],[0.5555555555555556,\"#d8576b\"],[0.6666666666666666,\"#ed7953\"],[0.7777777777777778,\"#fb9f3a\"],[0.8888888888888888,\"#fdca26\"],[1.0,\"#f0f921\"]],\"diverging\":[[0,\"#8e0152\"],[0.1,\"#c51b7d\"],[0.2,\"#de77ae\"],[0.3,\"#f1b6da\"],[0.4,\"#fde0ef\"],[0.5,\"#f7f7f7\"],[0.6,\"#e6f5d0\"],[0.7,\"#b8e186\"],[0.8,\"#7fbc41\"],[0.9,\"#4d9221\"],[1,\"#276419\"]]},\"xaxis\":{\"gridcolor\":\"white\",\"linecolor\":\"white\",\"ticks\":\"\",\"title\":{\"standoff\":15},\"zerolinecolor\":\"white\",\"automargin\":true,\"zerolinewidth\":2},\"yaxis\":{\"gridcolor\":\"white\",\"linecolor\":\"white\",\"ticks\":\"\",\"title\":{\"standoff\":15},\"zerolinecolor\":\"white\",\"automargin\":true,\"zerolinewidth\":2},\"scene\":{\"xaxis\":{\"backgroundcolor\":\"#E5ECF6\",\"gridcolor\":\"white\",\"linecolor\":\"white\",\"showbackground\":true,\"ticks\":\"\",\"zerolinecolor\":\"white\",\"gridwidth\":2},\"yaxis\":{\"backgroundcolor\":\"#E5ECF6\",\"gridcolor\":\"white\",\"linecolor\":\"white\",\"showbackground\":true,\"ticks\":\"\",\"zerolinecolor\":\"white\",\"gridwidth\":2},\"zaxis\":{\"backgroundcolor\":\"#E5ECF6\",\"gridcolor\":\"white\",\"linecolor\":\"white\",\"showbackground\":true,\"ticks\":\"\",\"zerolinecolor\":\"white\",\"gridwidth\":2}},\"shapedefaults\":{\"line\":{\"color\":\"#2a3f5f\"}},\"annotationdefaults\":{\"arrowcolor\":\"#2a3f5f\",\"arrowhead\":0,\"arrowwidth\":1},\"geo\":{\"bgcolor\":\"white\",\"landcolor\":\"#E5ECF6\",\"subunitcolor\":\"white\",\"showland\":true,\"showlakes\":true,\"lakecolor\":\"white\"},\"title\":{\"x\":0.05},\"mapbox\":{\"style\":\"light\"}}},\"legend\":{\"tracegroupgap\":0},\"margin\":{\"t\":60}},                        {\"responsive\": true}                    ).then(function(){\n",
       "                            \n",
       "var gd = document.getElementById('a945c30b-9d5f-4506-a3d6-27c5208cb6fc');\n",
       "var x = new MutationObserver(function (mutations, observer) {{\n",
       "        var display = window.getComputedStyle(gd).display;\n",
       "        if (!display || display === 'none') {{\n",
       "            console.log([gd, 'removed!']);\n",
       "            Plotly.purge(gd);\n",
       "            observer.disconnect();\n",
       "        }}\n",
       "}});\n",
       "\n",
       "// Listen for the removal of the full notebook cells\n",
       "var notebookContainer = gd.closest('#notebook-container');\n",
       "if (notebookContainer) {{\n",
       "    x.observe(notebookContainer, {childList: true});\n",
       "}}\n",
       "\n",
       "// Listen for the clearing of the current output cell\n",
       "var outputEl = gd.closest('.output');\n",
       "if (outputEl) {{\n",
       "    x.observe(outputEl, {childList: true});\n",
       "}}\n",
       "\n",
       "                        })                };                });            </script>        </div>"
      ]
     },
     "metadata": {},
     "output_type": "display_data"
    }
   ],
   "source": [
    "fig = px.pie(values = extrato['Valor'], names = extrato['Categoria'])\n",
    "fig.show()"
   ]
  },
  {
   "cell_type": "code",
   "execution_count": 37,
   "id": "e2d6603c",
   "metadata": {},
   "outputs": [],
   "source": [
    "#ANÁLISE SEPARADA DO SUPERMERCADO:\n",
    "def get_supermercado():\n",
    "\n",
    "    extrato = data_frame()\n",
    "    \n",
    "    x = len(extrato.index)\n",
    "    z = 0\n",
    "    valor = 0\n",
    "    valor_total = []\n",
    "    \n",
    "    while (z < x):\n",
    "        \n",
    "        if (extrato.at[z,'Categoria'] == 'supermercado'):\n",
    "            valor = extrato.at[z,'Valor']\n",
    "            valor_total.append(valor)\n",
    "            z = z + 1\n",
    "        else:\n",
    "            z = z + 1\n",
    "    \n",
    "    pagamento_recebido = sum(valor_total)\n",
    "    \n",
    "    return pagamento_recebido"
   ]
  },
  {
   "cell_type": "code",
   "execution_count": 90,
   "id": "3da4675d",
   "metadata": {},
   "outputs": [],
   "source": [
    "def get_values_supermercado():\n",
    "\n",
    "    extrato = data_frame()\n",
    "    \n",
    "    x = len(extrato.index)\n",
    "    z = 0\n",
    "    valor = 0\n",
    "    valor_total = []\n",
    "    \n",
    "    while (z < x):\n",
    "        \n",
    "        if (extrato.at[z,'Categoria'] == 'supermercado'):\n",
    "            valor = extrato.at[z,'Valor']\n",
    "            valor_total.append(valor)\n",
    "            z = z + 1\n",
    "        else:\n",
    "            z = z + 1\n",
    "    \n",
    "    return valor_total"
   ]
  },
  {
   "cell_type": "code",
   "execution_count": 102,
   "id": "355317d6",
   "metadata": {},
   "outputs": [],
   "source": [
    "def count_list(list):\n",
    "    \n",
    "    count = 0\n",
    "    counts = []\n",
    "    \n",
    "    for element in list:\n",
    "        count = count + 1\n",
    "        counts.append(count)\n",
    "        \n",
    "    return counts"
   ]
  },
  {
   "cell_type": "code",
   "execution_count": 103,
   "id": "30332629",
   "metadata": {},
   "outputs": [],
   "source": [
    "def data_frame_supermercado():\n",
    "    \n",
    "    df = pd.DataFrame({'Valor': get_values_supermercado()},\n",
    "                  index=count_list(get_values_supermercado()))\n",
    "    \n",
    "    return df"
   ]
  },
  {
   "cell_type": "code",
   "execution_count": 106,
   "id": "f49ff122",
   "metadata": {},
   "outputs": [
    {
     "data": {
      "text/plain": [
       "<AxesSubplot:>"
      ]
     },
     "execution_count": 106,
     "metadata": {},
     "output_type": "execute_result"
    },
    {
     "data": {
      "image/png": "[encoded data removed]",
      "text/plain": [
       "<Figure size 432x288 with 1 Axes>"
      ]
     },
     "metadata": {},
     "output_type": "display_data"
    }
   ],
   "source": [
    "data_frame_supermercado().plot()"
   ]
  },
  {
   "cell_type": "code",
   "execution_count": 38,
   "id": "8a5ef5ac",
   "metadata": {},
   "outputs": [],
   "source": [
    "#ANÁLISE SEPARADA DO RESTAURANTE:\n",
    "def get_restaurante():\n",
    "\n",
    "    extrato = data_frame()\n",
    "    \n",
    "    x = len(extrato.index)\n",
    "    z = 0\n",
    "    valor = 0\n",
    "    valor_total = []\n",
    "    \n",
    "    while (z < x):\n",
    "        \n",
    "        if (extrato.at[z,'Categoria'] == 'restaurante'):\n",
    "            valor = extrato.at[z,'Valor']\n",
    "            valor_total.append(valor)\n",
    "            z = z + 1\n",
    "        else:\n",
    "            z = z + 1\n",
    "    \n",
    "    pagamento_recebido = sum(valor_total)\n",
    "    \n",
    "    return pagamento_recebido"
   ]
  },
  {
   "cell_type": "code",
   "execution_count": 107,
   "id": "4ee767b9",
   "metadata": {},
   "outputs": [],
   "source": [
    "def get_values_restaurante():\n",
    "\n",
    "    extrato = data_frame()\n",
    "    \n",
    "    x = len(extrato.index)\n",
    "    z = 0\n",
    "    valor = 0\n",
    "    valor_total = []\n",
    "    \n",
    "    while (z < x):\n",
    "        \n",
    "        if (extrato.at[z,'Categoria'] == 'restaurante'):\n",
    "            valor = extrato.at[z,'Valor']\n",
    "            valor_total.append(valor)\n",
    "            z = z + 1\n",
    "        else:\n",
    "            z = z + 1\n",
    "    \n",
    "    return valor_total"
   ]
  },
  {
   "cell_type": "code",
   "execution_count": 117,
   "id": "9c604c86",
   "metadata": {},
   "outputs": [],
   "source": [
    "def data_frame_restaurante():\n",
    "    \n",
    "    df = pd.DataFrame({'Valor': get_values_restaurante()},\n",
    "                  index=count_list(get_values_restaurante()))\n",
    "    \n",
    "    return df"
   ]
  },
  {
   "cell_type": "code",
   "execution_count": 120,
   "id": "66914a56",
   "metadata": {},
   "outputs": [
    {
     "data": {
      "text/plain": [
       "<AxesSubplot:>"
      ]
     },
     "execution_count": 120,
     "metadata": {},
     "output_type": "execute_result"
    },
    {
     "data": {
      "image/png": "[encoded data removed]",
      "text/plain": [
       "<Figure size 432x288 with 1 Axes>"
      ]
     },
     "metadata": {},
     "output_type": "display_data"
    }
   ],
   "source": [
    "data_frame_restaurante().plot()"
   ]
  },
  {
   "cell_type": "code",
   "execution_count": 39,
   "id": "6b5d9f55",
   "metadata": {},
   "outputs": [],
   "source": [
    "#ANÁLISE SEPARADA DO TRANSPORTE:\n",
    "def get_transporte():\n",
    "\n",
    "    extrato = data_frame()\n",
    "    \n",
    "    x = len(extrato.index)\n",
    "    z = 0\n",
    "    valor = 0\n",
    "    valor_total = []\n",
    "    \n",
    "    while (z < x):\n",
    "        \n",
    "        if (extrato.at[z,'Categoria'] == 'transporte'):\n",
    "            valor = extrato.at[z,'Valor']\n",
    "            valor_total.append(valor)\n",
    "            z = z + 1\n",
    "        else:\n",
    "            z = z + 1\n",
    "    \n",
    "    pagamento_recebido = sum(valor_total)\n",
    "    \n",
    "    return pagamento_recebido"
   ]
  },
  {
   "cell_type": "code",
   "execution_count": 110,
   "id": "96b1d04b",
   "metadata": {},
   "outputs": [],
   "source": [
    "def get_values_transporte():\n",
    "\n",
    "    extrato = data_frame()\n",
    "    \n",
    "    x = len(extrato.index)\n",
    "    z = 0\n",
    "    valor = 0\n",
    "    valor_total = []\n",
    "    \n",
    "    while (z < x):\n",
    "        \n",
    "        if (extrato.at[z,'Categoria'] == 'transporte'):\n",
    "            valor = extrato.at[z,'Valor']\n",
    "            valor_total.append(valor)\n",
    "            z = z + 1\n",
    "        else:\n",
    "            z = z + 1\n",
    "    \n",
    "    return valor_total"
   ]
  },
  {
   "cell_type": "code",
   "execution_count": 111,
   "id": "d50f132f",
   "metadata": {},
   "outputs": [],
   "source": [
    "def data_frame_transporte():\n",
    "    \n",
    "    df = pd.DataFrame({'Valor': get_values_transporte()},\n",
    "                  index=count_list(get_values_transporte()))\n",
    "    \n",
    "    return df"
   ]
  },
  {
   "cell_type": "code",
   "execution_count": 112,
   "id": "a2f53eef",
   "metadata": {},
   "outputs": [
    {
     "data": {
      "text/plain": [
       "<AxesSubplot:>"
      ]
     },
     "execution_count": 112,
     "metadata": {},
     "output_type": "execute_result"
    },
    {
     "data": {
      "image/png": "[encoded data removed]",
      "text/plain": [
       "<Figure size 432x288 with 1 Axes>"
      ]
     },
     "metadata": {},
     "output_type": "display_data"
    }
   ],
   "source": [
    "data_frame_transporte().plot()"
   ]
  },
  {
   "cell_type": "code",
   "execution_count": 40,
   "id": "c036ae16",
   "metadata": {},
   "outputs": [],
   "source": [
    "#ANÁLISE SEPARADA DA CASA:\n",
    "def get_casa():\n",
    "\n",
    "    extrato = data_frame()\n",
    "    \n",
    "    x = len(extrato.index)\n",
    "    z = 0\n",
    "    valor = 0\n",
    "    valor_total = []\n",
    "    \n",
    "    while (z < x):\n",
    "        \n",
    "        if (extrato.at[z,'Categoria'] == 'casa'):\n",
    "            valor = extrato.at[z,'Valor']\n",
    "            valor_total.append(valor)\n",
    "            z = z + 1\n",
    "        else:\n",
    "            z = z + 1\n",
    "    \n",
    "    pagamento_recebido = sum(valor_total)\n",
    "    \n",
    "    return pagamento_recebido"
   ]
  },
  {
   "cell_type": "code",
   "execution_count": 113,
   "id": "03475570",
   "metadata": {},
   "outputs": [],
   "source": [
    "def get_values_casa():\n",
    "\n",
    "    extrato = data_frame()\n",
    "    \n",
    "    x = len(extrato.index)\n",
    "    z = 0\n",
    "    valor = 0\n",
    "    valor_total = []\n",
    "    \n",
    "    while (z < x):\n",
    "        \n",
    "        if (extrato.at[z,'Categoria'] == 'casa'):\n",
    "            valor = extrato.at[z,'Valor']\n",
    "            valor_total.append(valor)\n",
    "            z = z + 1\n",
    "        else:\n",
    "            z = z + 1\n",
    "    \n",
    "    return valor_total"
   ]
  },
  {
   "cell_type": "code",
   "execution_count": 114,
   "id": "7a196fbf",
   "metadata": {},
   "outputs": [],
   "source": [
    "def data_frame_casa():\n",
    "    \n",
    "    df = pd.DataFrame({'Valor': get_values_casa()},\n",
    "                  index=count_list(get_values_casa()))\n",
    "    \n",
    "    return df"
   ]
  },
  {
   "cell_type": "code",
   "execution_count": 115,
   "id": "f232aadb",
   "metadata": {},
   "outputs": [
    {
     "data": {
      "text/plain": [
       "<AxesSubplot:>"
      ]
     },
     "execution_count": 115,
     "metadata": {},
     "output_type": "execute_result"
    },
    {
     "data": {
      "image/png": "[encoded data removed]",
      "text/plain": [
       "<Figure size 432x288 with 1 Axes>"
      ]
     },
     "metadata": {},
     "output_type": "display_data"
    }
   ],
   "source": [
    "data_frame_casa().plot()"
   ]
  },
  {
   "cell_type": "code",
   "execution_count": 127,
   "id": "c9532d77",
   "metadata": {},
   "outputs": [],
   "source": [
    "#ANÁLISE SEPARADA DO VESTUÁRIO:\n",
    "def get_vestuario():\n",
    "\n",
    "    extrato = data_frame()\n",
    "    \n",
    "    x = len(extrato.index)\n",
    "    z = 0\n",
    "    valor = 0\n",
    "    valor_total = []\n",
    "    \n",
    "    while (z < x):\n",
    "        \n",
    "        if (extrato.at[z,'Categoria'] == 'vestuário'):\n",
    "            valor = extrato.at[z,'Valor']\n",
    "            valor_total.append(valor)\n",
    "            z = z + 1\n",
    "        else:\n",
    "            z = z + 1\n",
    "    \n",
    "    pagamento_recebido = sum(valor_total)\n",
    "    \n",
    "    return pagamento_recebido"
   ]
  },
  {
   "cell_type": "code",
   "execution_count": 128,
   "id": "3e40bc86",
   "metadata": {},
   "outputs": [],
   "source": [
    "def get_values_vestuario():\n",
    "\n",
    "    extrato = data_frame()\n",
    "    \n",
    "    x = len(extrato.index)\n",
    "    z = 0\n",
    "    valor = 0\n",
    "    valor_total = []\n",
    "    \n",
    "    while (z < x):\n",
    "        \n",
    "        if (extrato.at[z,'Categoria'] == 'vestuário'):\n",
    "            valor = extrato.at[z,'Valor']\n",
    "            valor_total.append(valor)\n",
    "            z = z + 1\n",
    "        else:\n",
    "            z = z + 1\n",
    "    \n",
    "    return valor_total"
   ]
  },
  {
   "cell_type": "code",
   "execution_count": 131,
   "id": "f6ff268e",
   "metadata": {},
   "outputs": [],
   "source": [
    "def data_frame_vestuario():\n",
    "    \n",
    "    df = pd.DataFrame({'Valor': get_values_vestuario()},\n",
    "                  index=count_list(get_values_vestuario()))\n",
    "    \n",
    "    return df"
   ]
  },
  {
   "cell_type": "code",
   "execution_count": 133,
   "id": "299f041f",
   "metadata": {},
   "outputs": [
    {
     "data": {
      "text/plain": [
       "<AxesSubplot:>"
      ]
     },
     "execution_count": 133,
     "metadata": {},
     "output_type": "execute_result"
    },
    {
     "data": {
      "image/png": "[encoded data removed]",
      "text/plain": [
       "<Figure size 432x288 with 1 Axes>"
      ]
     },
     "metadata": {},
     "output_type": "display_data"
    }
   ],
   "source": [
    "data_frame_vestuario().plot()"
   ]
  },
  {
   "cell_type": "markdown",
   "id": "edfa835c",
   "metadata": {},
   "source": [
    "# Diagnóstico final"
   ]
  },
  {
   "cell_type": "code",
   "execution_count": 74,
   "id": "a33953af",
   "metadata": {},
   "outputs": [
    {
     "data": {
      "text/plain": [
       "5129.569999999999"
      ]
     },
     "execution_count": 74,
     "metadata": {},
     "output_type": "execute_result"
    }
   ],
   "source": [
    "#Total gasto nos últimos três meses (exclusão de março, pois fatura é postecipada)\n",
    "total = sum(extrato['Valor'])\n",
    "total"
   ]
  },
  {
   "cell_type": "code",
   "execution_count": 135,
   "id": "5d2388d0",
   "metadata": {},
   "outputs": [
    {
     "data": {
      "text/plain": [
       "932.72"
      ]
     },
     "execution_count": 135,
     "metadata": {},
     "output_type": "execute_result"
    }
   ],
   "source": [
    "#Total em vestuário\n",
    "total_vestuario = sum(get_values_vestuario())\n",
    "total_vestuario"
   ]
  },
  {
   "cell_type": "code",
   "execution_count": 137,
   "id": "f093d0ba",
   "metadata": {},
   "outputs": [
    {
     "data": {
      "text/plain": [
       "Valor    62.181333\n",
       "dtype: float64"
      ]
     },
     "execution_count": 137,
     "metadata": {},
     "output_type": "execute_result"
    }
   ],
   "source": [
    "#Média vestuário\n",
    "data_frame_vestuario().mean()"
   ]
  },
  {
   "cell_type": "code",
   "execution_count": 139,
   "id": "19e359d7",
   "metadata": {},
   "outputs": [
    {
     "data": {
      "text/plain": [
       "289.73999999999995"
      ]
     },
     "execution_count": 139,
     "metadata": {},
     "output_type": "execute_result"
    }
   ],
   "source": [
    "#Total em transporte\n",
    "total_transporte = sum(get_values_transporte())\n",
    "total_transporte"
   ]
  },
  {
   "cell_type": "code",
   "execution_count": 140,
   "id": "4a31abd7",
   "metadata": {},
   "outputs": [
    {
     "data": {
      "text/plain": [
       "Valor    18.10875\n",
       "dtype: float64"
      ]
     },
     "execution_count": 140,
     "metadata": {},
     "output_type": "execute_result"
    }
   ],
   "source": [
    "#Média transporte\n",
    "data_frame_transporte().mean()"
   ]
  },
  {
   "cell_type": "code",
   "execution_count": 141,
   "id": "c3f571ac",
   "metadata": {},
   "outputs": [
    {
     "data": {
      "text/plain": [
       "707.14"
      ]
     },
     "execution_count": 141,
     "metadata": {},
     "output_type": "execute_result"
    }
   ],
   "source": [
    "#Total em supermercado\n",
    "total_supermercado = sum(get_values_supermercado())\n",
    "total_supermercado"
   ]
  },
  {
   "cell_type": "code",
   "execution_count": 142,
   "id": "b5212d65",
   "metadata": {},
   "outputs": [
    {
     "data": {
      "text/plain": [
       "Valor    28.9475\n",
       "dtype: float64"
      ]
     },
     "execution_count": 142,
     "metadata": {},
     "output_type": "execute_result"
    }
   ],
   "source": [
    "#Média supermercado\n",
    "data_frame_supermercado().mean()"
   ]
  },
  {
   "cell_type": "code",
   "execution_count": 143,
   "id": "576f2e6b",
   "metadata": {},
   "outputs": [
    {
     "data": {
      "text/plain": [
       "63.42"
      ]
     },
     "execution_count": 143,
     "metadata": {},
     "output_type": "execute_result"
    }
   ],
   "source": [
    "#Total em casa\n",
    "total_casa = sum(get_values_casa())\n",
    "total_casa"
   ]
  },
  {
   "cell_type": "code",
   "execution_count": 144,
   "id": "76f50001",
   "metadata": {},
   "outputs": [
    {
     "data": {
      "text/plain": [
       "Valor    31.71\n",
       "dtype: float64"
      ]
     },
     "execution_count": 144,
     "metadata": {},
     "output_type": "execute_result"
    }
   ],
   "source": [
    "#Média casa\n",
    "data_frame_casa().mean()"
   ]
  },
  {
   "cell_type": "code",
   "execution_count": 146,
   "id": "42bd167a",
   "metadata": {},
   "outputs": [
    {
     "data": {
      "text/plain": [
       "463.15999999999997"
      ]
     },
     "execution_count": 146,
     "metadata": {},
     "output_type": "execute_result"
    }
   ],
   "source": [
    "#Total em restaurante\n",
    "total_restaurante = sum(get_values_restaurante())\n",
    "total_restaurante"
   ]
  },
  {
   "cell_type": "code",
   "execution_count": 145,
   "id": "bb8db46c",
   "metadata": {},
   "outputs": [
    {
     "data": {
      "text/plain": [
       "Valor    28.9475\n",
       "dtype: float64"
      ]
     },
     "execution_count": 145,
     "metadata": {},
     "output_type": "execute_result"
    }
   ],
   "source": [
    "#Média restaurante\n",
    "data_frame_restaurante().mean()"
   ]
  },
  {
   "cell_type": "code",
   "execution_count": 75,
   "id": "d9587dd6",
   "metadata": {},
   "outputs": [
    {
     "data": {
      "text/plain": [
       "51.2957"
      ]
     },
     "execution_count": 75,
     "metadata": {},
     "output_type": "execute_result"
    }
   ],
   "source": [
    "#Média de gasto diário\n",
    "extrato['Valor'].mean()"
   ]
  },
  {
   "cell_type": "code",
   "execution_count": 76,
   "id": "7c8f00c8",
   "metadata": {},
   "outputs": [
    {
     "data": {
      "text/plain": [
       "0      7.90\n",
       "1     10.90\n",
       "2     32.00\n",
       "3     40.00\n",
       "4     59.90\n",
       "5     71.66\n",
       "6     94.95\n",
       "7    119.90\n",
       "Name: Valor, dtype: float64"
      ]
     },
     "execution_count": 76,
     "metadata": {},
     "output_type": "execute_result"
    }
   ],
   "source": [
    "#Valores recorrentes (prováveis custos fixos)\n",
    "extrato['Valor'].mode()"
   ]
  },
  {
   "cell_type": "code",
   "execution_count": 77,
   "id": "7cd830cc",
   "metadata": {},
   "outputs": [
    {
     "data": {
      "text/plain": [
       "1883.16"
      ]
     },
     "execution_count": 77,
     "metadata": {},
     "output_type": "execute_result"
    }
   ],
   "source": [
    "#Projeção superficial do custo necessário projetado\n",
    "academia = 119.90\n",
    "custo_proj = get_transporte() + get_supermercado() + get_casa() + get_restaurante() + 3*academia\n",
    "custo_proj"
   ]
  },
  {
   "cell_type": "code",
   "execution_count": 80,
   "id": "293a37f2",
   "metadata": {},
   "outputs": [
    {
     "data": {
      "text/plain": [
       "3246.409999999999"
      ]
     },
     "execution_count": 80,
     "metadata": {},
     "output_type": "execute_result"
    }
   ],
   "source": [
    "#Provável excesso\n",
    "total - custo_proj"
   ]
  },
  {
   "cell_type": "code",
   "execution_count": 78,
   "id": "d0fc737e",
   "metadata": {},
   "outputs": [
    {
     "data": {
      "text/plain": [
       "627.72"
      ]
     },
     "execution_count": 78,
     "metadata": {},
     "output_type": "execute_result"
    }
   ],
   "source": [
    "#Média do custo projetado nos últimos três meses\n",
    "custo_proj/3"
   ]
  },
  {
   "cell_type": "code",
   "execution_count": 79,
   "id": "6cd4c65e",
   "metadata": {},
   "outputs": [
    {
     "data": {
      "text/plain": [
       "1082.1366666666663"
      ]
     },
     "execution_count": 79,
     "metadata": {},
     "output_type": "execute_result"
    }
   ],
   "source": [
    "#Média excesso mensal nos últimos três meses\n",
    "(total - custo_proj)/3"
   ]
  },
  {
   "cell_type": "markdown",
   "id": "014f6d48",
   "metadata": {},
   "source": [
    "# Consultando carteira ETH"
   ]
  },
  {
   "cell_type": "code",
   "execution_count": 82,
   "id": "044b147e",
   "metadata": {},
   "outputs": [],
   "source": [
    "from web3 import Web3"
   ]
  },
  {
   "cell_type": "code",
   "execution_count": 83,
   "id": "b248fc89",
   "metadata": {},
   "outputs": [],
   "source": [
    "#Refazer mainnet\n",
    "\n",
    "infura_url = 'https://mainnet.infura.io/v3/0'\n",
    "web3 = Web3(Web3.HTTPProvider(infura_url))"
   ]
  },
  {
   "cell_type": "code",
   "execution_count": 84,
   "id": "97d2d11b",
   "metadata": {},
   "outputs": [
    {
     "data": {
      "text/plain": [
       "True"
      ]
     },
     "execution_count": 84,
     "metadata": {},
     "output_type": "execute_result"
    }
   ],
   "source": [
    "web3.isConnected()"
   ]
  },
  {
   "cell_type": "code",
   "execution_count": 85,
   "id": "f871d419",
   "metadata": {},
   "outputs": [
    {
     "data": {
      "text/plain": [
       "Decimal('0.020511136908018375')"
      ]
     },
     "execution_count": 85,
     "metadata": {},
     "output_type": "execute_result"
    }
   ],
   "source": [
    "balance = web3.eth.getBalance('')\n",
    "web3.fromWei(balance, 'ether')"
   ]
  },
  {
   "cell_type": "markdown",
   "id": "dcfeb0bf",
   "metadata": {},
   "source": [
    "# Criando PDF"
   ]
  },
  {
   "cell_type": "code",
   "execution_count": 155,
   "id": "835ac4a6",
   "metadata": {},
   "outputs": [],
   "source": [
    "class PDF(FPDF):\n",
    "    \n",
    "    def header(self):\n",
    "        \n",
    "        #self.image('logo.png', 10, 8, 40)\n",
    "        self.set_font('Arial', 'B', 20)\n",
    "        self.ln(15)\n",
    "        self.set_draw_color(35, 155, 132) #cor RGB\n",
    "        self.cell(15, ln = False)\n",
    "        self.cell(150, 15, f\"Relatório de fatura e extrato {data_final}\", \n",
    "                  border = True, ln = True, align = \"C\")\n",
    "        self.ln(5)\n",
    "        \n",
    "    def footer(self):\n",
    "        \n",
    "        self.set_y(-15) #espaço ate o final da folha\n",
    "        self.set_font('Arial', 'I', 10)\n",
    "        self.cell(0, 10, f\"{self.page_no()}/{{nb}}\", align = \"C\")"
   ]
  },
  {
   "cell_type": "code",
   "execution_count": 156,
   "id": "6581b256",
   "metadata": {},
   "outputs": [
    {
     "ename": "NameError",
     "evalue": "name 'data_final' is not defined",
     "output_type": "error",
     "traceback": [
      "\u001b[1;31m---------------------------------------------------------------------------\u001b[0m",
      "\u001b[1;31mNameError\u001b[0m                                 Traceback (most recent call last)",
      "Input \u001b[1;32mIn [156]\u001b[0m, in \u001b[0;36m<cell line: 6>\u001b[1;34m()\u001b[0m\n\u001b[0;32m      4\u001b[0m pdf\u001b[38;5;241m.\u001b[39mset_auto_page_break(auto \u001b[38;5;241m=\u001b[39m \u001b[38;5;28;01mTrue\u001b[39;00m, margin \u001b[38;5;241m=\u001b[39m \u001b[38;5;241m15\u001b[39m)\n\u001b[0;32m      5\u001b[0m pdf\u001b[38;5;241m.\u001b[39malias_nb_pages()\n\u001b[1;32m----> 6\u001b[0m \u001b[43mpdf\u001b[49m\u001b[38;5;241;43m.\u001b[39;49m\u001b[43madd_page\u001b[49m\u001b[43m(\u001b[49m\u001b[43m)\u001b[49m\n\u001b[0;32m      7\u001b[0m pdf\u001b[38;5;241m.\u001b[39mset_fill_color(\u001b[38;5;241m255\u001b[39m, \u001b[38;5;241m255\u001b[39m, \u001b[38;5;241m255\u001b[39m)\n\u001b[0;32m      8\u001b[0m pdf\u001b[38;5;241m.\u001b[39mset_draw_color(\u001b[38;5;241m35\u001b[39m, \u001b[38;5;241m155\u001b[39m, \u001b[38;5;241m132\u001b[39m)\n",
      "File \u001b[1;32m~\\AppData\\Local\\Programs\\Python\\Python310\\lib\\site-packages\\fpdf\\fpdf.py:290\u001b[0m, in \u001b[0;36mFPDF.add_page\u001b[1;34m(self, orientation)\u001b[0m\n\u001b[0;32m    288\u001b[0m \u001b[38;5;28mself\u001b[39m\u001b[38;5;241m.\u001b[39mcolor_flag\u001b[38;5;241m=\u001b[39mcf\n\u001b[0;32m    289\u001b[0m \u001b[38;5;66;03m#Page header\u001b[39;00m\n\u001b[1;32m--> 290\u001b[0m \u001b[38;5;28;43mself\u001b[39;49m\u001b[38;5;241;43m.\u001b[39;49m\u001b[43mheader\u001b[49m\u001b[43m(\u001b[49m\u001b[43m)\u001b[49m\n\u001b[0;32m    291\u001b[0m \u001b[38;5;66;03m#Restore line width\u001b[39;00m\n\u001b[0;32m    292\u001b[0m \u001b[38;5;28;01mif\u001b[39;00m(\u001b[38;5;28mself\u001b[39m\u001b[38;5;241m.\u001b[39mline_width\u001b[38;5;241m!=\u001b[39mlw):\n",
      "Input \u001b[1;32mIn [155]\u001b[0m, in \u001b[0;36mPDF.header\u001b[1;34m(self)\u001b[0m\n\u001b[0;32m      8\u001b[0m \u001b[38;5;28mself\u001b[39m\u001b[38;5;241m.\u001b[39mset_draw_color(\u001b[38;5;241m35\u001b[39m, \u001b[38;5;241m155\u001b[39m, \u001b[38;5;241m132\u001b[39m) \u001b[38;5;66;03m#cor RGB\u001b[39;00m\n\u001b[0;32m      9\u001b[0m \u001b[38;5;28mself\u001b[39m\u001b[38;5;241m.\u001b[39mcell(\u001b[38;5;241m15\u001b[39m, ln \u001b[38;5;241m=\u001b[39m \u001b[38;5;28;01mFalse\u001b[39;00m)\n\u001b[1;32m---> 10\u001b[0m \u001b[38;5;28mself\u001b[39m\u001b[38;5;241m.\u001b[39mcell(\u001b[38;5;241m150\u001b[39m, \u001b[38;5;241m15\u001b[39m, \u001b[38;5;124mf\u001b[39m\u001b[38;5;124m\"\u001b[39m\u001b[38;5;124mRelatório de fatura e extrato \u001b[39m\u001b[38;5;132;01m{\u001b[39;00mdata_final\u001b[38;5;132;01m}\u001b[39;00m\u001b[38;5;124m\"\u001b[39m, \n\u001b[0;32m     11\u001b[0m           border \u001b[38;5;241m=\u001b[39m \u001b[38;5;28;01mTrue\u001b[39;00m, ln \u001b[38;5;241m=\u001b[39m \u001b[38;5;28;01mTrue\u001b[39;00m, align \u001b[38;5;241m=\u001b[39m \u001b[38;5;124m\"\u001b[39m\u001b[38;5;124mC\u001b[39m\u001b[38;5;124m\"\u001b[39m)\n\u001b[0;32m     12\u001b[0m \u001b[38;5;28mself\u001b[39m\u001b[38;5;241m.\u001b[39mln(\u001b[38;5;241m5\u001b[39m)\n",
      "\u001b[1;31mNameError\u001b[0m: name 'data_final' is not defined"
     ]
    }
   ],
   "source": [
    "#Definindo config básicas do PDF\n",
    "\n",
    "pdf = PDF(\"P\", \"mm\", \"Letter\")\n",
    "pdf.set_auto_page_break(auto = True, margin = 15)\n",
    "pdf.alias_nb_pages()\n",
    "pdf.add_page()\n",
    "pdf.set_fill_color(255, 255, 255)\n",
    "pdf.set_draw_color(35, 155, 132)"
   ]
  },
  {
   "cell_type": "code",
   "execution_count": null,
   "id": "ff3426a0",
   "metadata": {},
   "outputs": [],
   "source": []
  }
 ],
 "metadata": {
  "kernelspec": {
   "display_name": "Python 3 (ipykernel)",
   "language": "python",
   "name": "python3"
  },
  "language_info": {
   "codemirror_mode": {
    "name": "ipython",
    "version": 3
   },
   "file_extension": ".py",
   "mimetype": "text/x-python",
   "name": "python",
   "nbconvert_exporter": "python",
   "pygments_lexer": "ipython3",
   "version": "3.10.2"
  }
 },
 "nbformat": 4,
 "nbformat_minor": 5
}
